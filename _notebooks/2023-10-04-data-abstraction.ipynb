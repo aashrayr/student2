{
 "cells": [
  {
   "cell_type": "code",
   "execution_count": 1,
   "metadata": {},
   "outputs": [
    {
     "name": "stdout",
     "output_type": "stream",
     "text": [
      "1238171\n",
      "I have 0 moneys\n"
     ]
    }
   ],
   "source": [
    "numero = 1238171\n",
    "string= \"I have 0 moneys\"\n",
    "\n",
    "print(numero)\n",
    "print(string)"
   ]
  },
  {
   "cell_type": "code",
   "execution_count": 5,
   "metadata": {},
   "outputs": [
    {
     "name": "stdout",
     "output_type": "stream",
     "text": [
      "<class 'str'>\n",
      "<class 'int'>\n",
      "<class 'float'>\n"
     ]
    }
   ],
   "source": [
    "skull = \"💀\" \n",
    "not_skull = 42\n",
    "maybe_skull = 42.2341232412387246124612783472178234832784572\n",
    "\n",
    "print(type(skull))\n",
    "print(type(not_skull))\n",
    "print(type(maybe_skull))"
   ]
  },
  {
   "cell_type": "code",
   "execution_count": 8,
   "metadata": {},
   "outputs": [
    {
     "name": "stdout",
     "output_type": "stream",
     "text": [
      "15 23 15\n"
     ]
    }
   ],
   "source": [
    "a = 31\n",
    "b = 15\n",
    "sdf = 23\n",
    "\n",
    "a = b\n",
    "b = sdf\n",
    "sdf = a\n",
    "\n",
    "print(a , b, sdf)"
   ]
  },
  {
   "cell_type": "code",
   "execution_count": 12,
   "metadata": {},
   "outputs": [
    {
     "name": "stdout",
     "output_type": "stream",
     "text": [
      "b\n"
     ]
    }
   ],
   "source": [
    "sting = \"aibohphobia\"\n",
    "print(sting[8])"
   ]
  },
  {
   "cell_type": "code",
   "execution_count": 13,
   "metadata": {},
   "outputs": [],
   "source": [
    "class cat:\n",
    "    def __init__(cat, aliveordead, age):\n",
    "        cat.aliveordead = aliveordead\n",
    "        cat.age = age\n",
    "\n",
    "\n",
    "\n",
    "\n",
    "def FR(self):\n",
    "    print(cat.aliveordead)"
   ]
  },
  {
   "cell_type": "code",
   "execution_count": 1,
   "metadata": {},
   "outputs": [
    {
     "name": "stdout",
     "output_type": "stream",
     "text": [
      "Jim: 2039 years old\n",
      "Henry: 1029 years old\n",
      "Augustus: 4 years old\n",
      "The oldest person is Jimothy with age 5000 years old\n"
     ]
    }
   ],
   "source": [
    "class Person:\n",
    "    def __init__(self, name, age):\n",
    "        self.name = name\n",
    "        self.age = age\n",
    "\n",
    "def print_people(people):\n",
    "    for person in people:\n",
    "        print(f\"{person.name}: {person.age} years old\")\n",
    "\n",
    "def find_oldest_person(people_dict):\n",
    "    if not people_dict:\n",
    "        return \"No people in the dictionary\"\n",
    "\n",
    "    oldest_person = max(people_dict, key=people_dict.get)\n",
    "    return f\"The oldest person is {oldest_person} with age {people_dict[oldest_person]} years old\"\n",
    "\n",
    "\n",
    "# Example usage:\n",
    "\n",
    "# Create a list of people\n",
    "people_list = [Person(\"Jim\", 2039), Person(\"Henry\", 1029), Person(\"Augustus\", 4)]\n",
    "\n",
    "# Call the print_people function with the list of people\n",
    "print_people(people_list)\n",
    "\n",
    "# Create a dictionary of people and their ages\n",
    "people_dict = {\"Jimothy\": 5000, \"Everest\": 350, \"Frankfurt\": 45}\n",
    "\n",
    "# Call the find_oldest_person function with the dictionary\n",
    "oldest_person_info = find_oldest_person(people_dict)\n",
    "print(oldest_person_info)\n"
   ]
  }
 ],
 "metadata": {
  "kernelspec": {
   "display_name": "Python 3",
   "language": "python",
   "name": "python3"
  },
  "language_info": {
   "codemirror_mode": {
    "name": "ipython",
    "version": 3
   },
   "file_extension": ".py",
   "mimetype": "text/x-python",
   "name": "python",
   "nbconvert_exporter": "python",
   "pygments_lexer": "ipython3",
   "version": "3.10.12"
  },
  "orig_nbformat": 4
 },
 "nbformat": 4,
 "nbformat_minor": 2
}
