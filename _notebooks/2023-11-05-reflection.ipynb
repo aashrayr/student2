{
 "cells": [
  {
   "cell_type": "markdown",
   "metadata": {},
   "source": [
    "---\n",
    "toc: true \n",
    "comments: true \n",
    "layout: post \n",
    "title: Reflection \n",
    "description: Reflection \n",
    "courses: { compsci: { week: 7 }} \n",
    "type: hacks\n",
    "---"
   ]
  },
  {
   "cell_type": "code",
   "execution_count": null,
   "metadata": {},
   "outputs": [],
   "source": [
    "Trimester 1 Reflection - CSP Class\n",
    "\n",
    "**Memories and Learnings from Trimester 1:**\n",
    "\n",
    "- Trimester 1 was an exciting journey in the world of computer science. I began with an overview of tools and equipment, including VSCode and GitHub Pages setup. I even had the opportunity to build my own student page.\n",
    "\n",
    "- I explored Python Input/Output, Linux Shell, and Bash scripting. The anatomy of GitHub Pages was also a vital part of the learning process.\n",
    "\n",
    "- JavaScript became more familiar as I delved into creating a JS Calculator, mastering Python tricks, and working on JS Output with jQuery.\n",
    "\n",
    "- Learning about Agile Methodology and correcting errors was valuable in enhancing my coding skills.\n",
    "\n",
    "- The introduction to web development layers during Sprint 2 opened up a whole new realm. I discovered Data Types, Lists, and Dictionaries in Python, and learned about binary concepts. I also got hands-on experience with Python/Flask, AWS deployment, and even worked with the iTunes API.\n",
    "\n",
    "- Building a website with Python Flask and JavaScript programming was a highlight. I appreciated the collaborative effort, from web programming basics to deploying a deployed website, frontend, and backend.\n",
    "\n",
    "- As I explored data compression, images, data abstraction, and algorithms, I had several opportunities for project work and coding challenges.\n",
    "\n",
    "- The knowledge I gained on procedures, libraries, and simulations expanded my coding skills and understanding of different aspects of computer science.\n",
    "\n",
    "**Positive Accomplishments:**\n",
    "\n",
    "- I successfully set up my student page and learned to work with important development tools.\n",
    "\n",
    "- Achieving proficiency in Python Input/Output and Bash scripting was a significant accomplishment.\n",
    "\n",
    "- Building a website using Python Flask and JavaScript was a major milestone in my coding journey.\n",
    "\n",
    "- I felt proud of my growing expertise in data manipulation, data abstraction, algorithms, and procedures.\n",
    "\n",
    "**Things I Intend to Learn in Future Trimesters:**\n",
    "\n",
    "- In future trimesters, I aim to delve deeper into web development, exploring more advanced concepts in frontend and backend development.\n",
    "\n",
    "- I'm eager to continue learning about data manipulation, data structures, and mastering different programming languages.\n",
    "\n",
    "- Further development of my coding and problem-solving skills is on my agenda, along with exploring more complex algorithms.\n",
    "\n",
    "**Opportunities for Growth:**\n",
    "\n",
    "- I recognize the need to work on error correction and improving my debugging skills to minimize mistakes in my code.\n",
    "\n",
    "- Collaborative coding and pair programming are areas where I see growth potential, enhancing my ability to work effectively in a team.\n",
    "\n",
    "- As I work on more extensive projects, I look forward to refining my project management and documentation skills for more organized and efficient coding.\n",
    "\n",
    "Trimester 1 has been an enlightening journey, and I'm excited about the opportunities for growth and learning in future trimesters."
   ]
  }
 ],
 "metadata": {
  "language_info": {
   "name": "python"
  },
  "orig_nbformat": 4
 },
 "nbformat": 4,
 "nbformat_minor": 2
}
