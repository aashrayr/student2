{
 "cells": [
  {
   "cell_type": "markdown",
   "metadata": {},
   "source": [
    "---\n",
    "toc: true \n",
    "comments: true \n",
    "layout: post \n",
    "title: Team Teach reflection\n",
    "description: Team Teach reflection\n",
    "courses: { compsci: { week: 7 }} \n",
    "type: hacks\n",
    "---"
   ]
  },
  {
   "cell_type": "markdown",
   "metadata": {},
   "source": [
    "My Portions:\n",
    "\n",
    "I worked on all the Pseudo Code for the popcorn hacks\n",
    "I also worked on nested if statements and continue/break\n",
    "\n",
    "Nested If Statements\n",
    "You can nest conditional statements inside a for loop to execute different code based on conditions."
   ]
  },
  {
   "cell_type": "markdown",
   "metadata": {},
   "source": [
    "# APCSP Pseudo-Code: For Loop with Nested If Statements\n",
    "\n",
    "numbers ← [1, 2, 3, 4, 5]\n",
    "FOR EACH num IN numbers:\n",
    "    IF num MOD 2 EQUALS 0:\n",
    "        DISPLAY num, \"is even\"\n",
    "    ELSE:\n",
    "        DISPLAY num, \"is odd\"\n",
    "    END IF\n",
    "END FOR"
   ]
  },
  {
   "cell_type": "code",
   "execution_count": null,
   "metadata": {},
   "outputs": [],
   "source": [
    "\n",
    "\n",
    "# Example 6: For loop with nested if statements\n",
    "numbers = [1, 2, 3, 4, 5]\n",
    "for num in numbers:\n",
    "    if num % 2 == 0:\n",
    "        print(num, \"is even\")\n",
    "    else:\n",
    "        print(num, \"is odd\")\n",
    "\n",
    "1\n",
    "2\n",
    "4"
   ]
  },
  {
   "cell_type": "markdown",
   "metadata": {},
   "source": [
    "Continue + break\n",
    "Continue and Break\n",
    "Continue statement skips the current iteration\n",
    "Break statement exits the loop prematurely\n",
    "# APCSP Pseudo-Code: For Loop with Continue and Brea"
   ]
  },
  {
   "cell_type": "code",
   "execution_count": null,
   "metadata": {},
   "outputs": [],
   "source": [
    "# Example 8: For loop with continue and break\n",
    "numbers = [1, 2, 3, 4, 5]\n",
    "for num in numbers:\n",
    "    if num == 3:\n",
    "        continue  # Skip the number 3\n",
    "    if num == 5:\n",
    "        break  # Exit the loop when 5 is encountered\n",
    "    print(num)"
   ]
  }
 ],
 "metadata": {
  "language_info": {
   "name": "python"
  },
  "orig_nbformat": 4
 },
 "nbformat": 4,
 "nbformat_minor": 2
}
