{
 "cells": [
  {
   "cell_type": "markdown",
   "metadata": {},
   "source": [
    "---\n",
    "toc: true \n",
    "comments: true \n",
    "layout: post \n",
    "title: College Board notes \n",
    "description: College Board notes \n",
    "courses: { compsci: { week: 7 }} \n",
    "type: hacks\n",
    "---"
   ]
  },
  {
   "cell_type": "markdown",
   "metadata": {},
   "source": [
    "My reasearch journey for this quiz was looking at the college board vidoes, and also using my knowledge from the team teaches.\n",
    "\n",
    "Corrections:\n",
    "Q5: C Correct. With these inputs, the OR gate will produce an output of true and the first AND gate will produce an output of true. Since both inputs to the second AND gate will be true, the circuit will have an output of true.\n",
    "\n",
    "11: Correct. The binary number 11111111 is equal to , or 255. The binary number 11110000 is equal to  , or 240. Therefore, the given binary triplet represents the color ivory. Proper binary\n",
    "\n",
    "14: Correct. With this step, the algorithm will repeatedly perform integer division on number, printing the remainder (the rightmost digit) until number is 0. For example, if the input is 512, the algorithm will display the remainder 2, then store the integer quotient 51 in number, then display the remainder 1, then store the integer quotient 5 in number, then display the remainder 5, then store the integer quotient 0 in number, then terminate.\n",
    "\n",
    "23: Correct. The flowchart sets available to true whenever weekday is true and miles is less than 20, and sets available to false otherwise. This code statement provides the same functionality.\n",
    "\n",
    "59: Correct. Open-source software has source code that is released under a license that allows users the rights to use and distribute it. However, there is no guarantee that the original developer of open-source software will provide support for its users.\n",
    "\n",
    "61: Correct. Some geographic locations lack the network infrastructure necessary to provide digital connectivity. Investing in network infrastructure is likely to provide people in remote locations access that they previously did not have.\n",
    "\n",
    "65: Correct. This code segment stores the substring \"lope\" in animal. It then concatenates \"a\" and \"lope\", storing the result \"alope\" in animal. Lastly, it concatenates the substring \"jack\" and \"alope\", storing the result \"jackalope\" in animal.\n",
    "\n",
    "66: Correct. This line should be removed. Every integer from start to end should be checked, so currentNum should only be incremented inside the loop but outside the body of the IF statement.\n",
    "\n",
    "67:Correct. For this code segment, count is increased to 1 the first time \"birch\" is encountered in the list. However, count is reset to 0 when the code segment moves to the next list element. The last time \"birch\" is encountered in the list, count is again increased to 1, causing the procedure to return 1 instead of the intended result 2.\n",
    "\n"
   ]
  }
 ],
 "metadata": {
  "language_info": {
   "name": "python"
  }
 },
 "nbformat": 4,
 "nbformat_minor": 2
}
