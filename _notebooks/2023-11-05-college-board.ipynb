{
 "cells": [
  {
   "cell_type": "markdown",
   "metadata": {},
   "source": [
    "---\n",
    "toc: true \n",
    "comments: true \n",
    "layout: post \n",
    "title: College Board notes \n",
    "description: College Board notes \n",
    "courses: { compsci: { week: 7 }} \n",
    "type: hacks\n",
    "---"
   ]
  },
  {
   "cell_type": "code",
   "execution_count": null,
   "metadata": {},
   "outputs": [],
   "source": [
    "Notes---\n",
    "Despite answering most questions correctly, the two mistakes on the practice test were frustrating. They highlighted the importance of being careful and avoiding simple errors in the actual exam, which is a valuable lesson I'll carry forward.\n",
    "\n",
    "The slight disappointment I felt from the errors serves as a reminder of the importance of thorough preparation and focus during the actual AP exam. It motivates me to review and refine my knowledge and test-taking strategies.\n",
    "\n",
    "Overall, while I was not satisfied with the two mistakes, I consider them a part of the learning process. They emphasize the need for continuous practice and vigilance to achieve the best possible outcome in the actual College Board AP exam.\n",
    "\n",
    "\n",
    "\n",
    "\n",
    "Q(9): What I put B: This option is incorrect. Programs that were developed with an iterative and incremental process still typically require testing.\n",
    "\n",
    "\n",
    "Correct:Answer D\n",
    "This option is correct. Incrementally adding code segments to correct, working programs can help programmers identify new errors that are introduced.\n",
    "\n",
    "\n",
    "8:D: This option is incorrect. The number of photos taken at a particular geographic location and the number of photos that were taken in the\n",
    "last year can be determined, but the name of the person who took the most recent photo cannot be determined.\n",
    "\n",
    "Correct: B:This option is incorrect. The number of photos taken at a particular geographic location and the number of photos that were taken in the\n",
    "last year can be determined, but the name of the person who took the most recent photo cannot be determined.\n"
   ]
  }
 ],
 "metadata": {
  "language_info": {
   "name": "python"
  },
  "orig_nbformat": 4
 },
 "nbformat": 4,
 "nbformat_minor": 2
}
