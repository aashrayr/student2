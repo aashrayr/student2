{
 "cells": [
  {
   "cell_type": "markdown",
   "metadata": {},
   "source": [
    "---\n",
    "# this is YAML front matter\n",
    "layout: post\n",
    "title: Tester Function\n",
    "description: Testing a python flask server hosting \n",
    "courses: { compsci: { week: 5 }}\n",
    "type: hacks\n",
    "---"
   ]
  },
  {
   "cell_type": "markdown",
   "metadata": {},
   "source": [
    "# Python Code to Collect an Order"
   ]
  },
  {
   "cell_type": "code",
   "execution_count": 1,
   "metadata": {},
   "outputs": [
    {
     "name": "stdout",
     "output_type": "stream",
     "text": [
      "Menu:\n",
      "-------------------------------\n",
      "burger  $3.99\n",
      "wings  $3.5\n",
      "fries  $2.5\n",
      "chips  $1.99\n",
      "soda  $0.99\n",
      "------------------------------------\n",
      "cost of: burger\n",
      "$3.99\n",
      "------------------------------------\n",
      "cost of: soda\n",
      "$0.99\n",
      "Cost of items: 4.98\n",
      "Tax: 0.36\n",
      "Tip: 4.98e+99 (100000000000000000000000000000000000000000000000000000000000000000000000000000000000000000000000000000%)\n",
      "Total: 4.98e+99\n"
     ]
    }
   ],
   "source": [
    "menu =  {\"burger\": 3.99,\n",
    "         \"wings\": 3.50,\n",
    "         \"fries\": 2.50,\n",
    "         \"chips\": 1.99,\n",
    "         \"soda\": 0.99}\n",
    "total = 0\n",
    "\n",
    "#shows the user the menu and prompts them to select an item\n",
    "print(\"Menu:\")\n",
    "print(\"-------------------------------\")\n",
    "for k,v in menu.items():\n",
    "    print(k + \"  $\" + str(v)) #why does v have \"str\" in front of it?\n",
    "\n",
    "yn = \"y\"\n",
    "\n",
    "while yn == \"y\":\n",
    "    print(\"------------------------------------\")\n",
    "\n",
    "    #ideally the code should prompt the user multiple times\n",
    "    item = input(\"Please select an item from the menu\")\n",
    "\n",
    "    print(\"cost of: \" + item)\n",
    "    print(\"$\" + str(menu[item]))\n",
    "    #code should add the price of the menu items selected by the user \n",
    "    total += menu[item]\n",
    "\n",
    "    yn = input(\"Would you like to buy anything else? (y/n)\")\n",
    "\n",
    "print(\"Cost of items: \" + str(total))\n",
    "print(\"Tax: \" + str(round(0.0725*total, 2)))\n",
    "tip = input(\"Enter tip amount here: \")\n",
    "tip = tip.replace('%', '')\n",
    "tipval = (float(tip)*.01)*total\n",
    "print(\"Tip: \" + str(round(float(tipval), 2)) + \" (\" + tip + \"%)\")\n",
    "print(\"Total: \" + str(round(1.0725*total, 2) + round(float(tipval), 2)))"
   ]
  }
 ],
 "metadata": {
  "kernelspec": {
   "display_name": "Python 3",
   "language": "python",
   "name": "python3"
  },
  "language_info": {
   "codemirror_mode": {
    "name": "ipython",
    "version": 3
   },
   "file_extension": ".py",
   "mimetype": "text/x-python",
   "name": "python",
   "nbconvert_exporter": "python",
   "pygments_lexer": "ipython3",
   "version": "3.10.12"
  },
  "orig_nbformat": 4
 },
 "nbformat": 4,
 "nbformat_minor": 2
}
