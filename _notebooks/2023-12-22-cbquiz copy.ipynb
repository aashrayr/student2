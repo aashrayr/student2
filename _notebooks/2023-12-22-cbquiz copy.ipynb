{
 "cells": [
  {
   "cell_type": "markdown",
   "metadata": {},
   "source": [
    "---\n",
    "toc: true \n",
    "comments: true \n",
    "layout: post \n",
    "title: Student Teaching notes \n",
    "description: Student Teaching notes \n",
    "courses: { compsci: { week: 7 }} \n",
    "type: hacks\n",
    "---"
   ]
  },
  {
   "cell_type": "markdown",
   "metadata": {},
   "source": [
    "The computer science principles (CSP) curriculum covers a range of vital topics. \n",
    "\"The Internet\" section should be evaluated for a comprehensive understanding of the internet's structure and functionality. \n",
    "\n",
    "\"Routing and Computing\" necessitates an assessment of the grasp on routing protocols and computational processes. \n",
    "\n",
    "The \"Beneficial and Harmful Effects\" topic should be scrutinized for an awareness of the dual impact of computing technologies on society. \"Digital Divide\" requires an examination of the recognition and comprehension of disparities in access to digital resources. \n",
    "\n",
    "\"Computing Bias\" calls for an evaluation of the understanding of biases in algorithms and systems.\n",
    "\n",
    " \"Crowdsourcing\" demands an assessment of knowledge regarding collaborative problem-solving through online platforms. \n",
    "\n",
    "\"Legal Ethical Concerns\" necessitates a thorough examination of the ethical implications and legal considerations in the realm of computing. \"Safe Computing\" should be reviewed for a grasp of cybersecurity principles and practices.\n",
    "\n",
    " Lastly, the \"CB Quiz\" section should be evaluated for effectiveness in testing the comprehension of all the aforementioned topics, ensuring a well-rounded assessment of the CSP curriculum."
   ]
  },
  {
   "cell_type": "markdown",
   "metadata": {},
   "source": []
  },
  {
   "cell_type": "markdown",
   "metadata": {},
   "source": []
  }
 ],
 "metadata": {
  "language_info": {
   "name": "python"
  }
 },
 "nbformat": 4,
 "nbformat_minor": 2
}
